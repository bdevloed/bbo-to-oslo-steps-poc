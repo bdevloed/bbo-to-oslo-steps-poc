{
 "cells": [
  {
   "cell_type": "code",
   "execution_count": null,
   "metadata": {},
   "outputs": [],
   "source": [
    "pip install -r requirements.txt"
   ]
  },
  {
   "cell_type": "markdown",
   "metadata": {},
   "source": [
    "# Prerequisites\n",
    "\n",
    "Follow the steps in descried in [bpmn_bbo_mapping](https://github.com/MartijnBogaert/bpmn_bbo_mapping) to create an `input.nq` file from a bpmn."
   ]
  },
  {
   "cell_type": "markdown",
   "metadata": {},
   "source": [
    "# Run mapping\n",
    "Note: change `--pass` to `--pass-only-new` to only keep newly derived triples. i.e. drop the input triples. In a later implementation `--query` should be used to only keep the relevant triples. For now keeping everything is easier during development."
   ]
  },
  {
   "cell_type": "code",
   "execution_count": 3,
   "metadata": {},
   "outputs": [],
   "source": [
    "! project_path=$(cd ../ && pwd) ; \\\n",
    "  docker run \\\n",
    "    --net=host --rm \\\n",
    "    -v $project_path:$project_path \\\n",
    "    -w $(pwd) \\\n",
    "    eyereasoner/eye \\\n",
    "      --nope --quiet --pass \\\n",
    "      input.nq \\\n",
    "      https://www.irit.fr/recherches/MELODI/ontologies/BBO/ontology.ttl \\\n",
    "      ../bbo-to-oslo-steps.n3 \\\n",
    "        > oslo-steps.ttl"
   ]
  },
  {
   "cell_type": "markdown",
   "metadata": {},
   "source": [
    "## Optional - pretty print result\n",
    "making the output more readible."
   ]
  },
  {
   "cell_type": "code",
   "execution_count": null,
   "metadata": {},
   "outputs": [],
   "source": [
    "! ./pretty_turtle oslo-steps.ttl"
   ]
  },
  {
   "cell_type": "markdown",
   "metadata": {},
   "source": [
    "# Exploration\n",
    "\n",
    "Used during development - execute sparql queries on graph."
   ]
  },
  {
   "cell_type": "code",
   "execution_count": null,
   "metadata": {},
   "outputs": [],
   "source": [
    "import rdflib\n",
    "import pandas as pd\n",
    "from io import StringIO\n"
   ]
  },
  {
   "cell_type": "code",
   "execution_count": null,
   "metadata": {},
   "outputs": [],
   "source": [
    "g = rdflib.Graph()\n",
    "\n",
    "g.parse('oslo-steps.ttl', format='ttl')"
   ]
  },
  {
   "cell_type": "code",
   "execution_count": null,
   "metadata": {},
   "outputs": [],
   "source": [
    "def sparql_result_to_dataframe(sparql_result):\n",
    "    return pd.read_csv(StringIO(sparql_result.serialize(format='csv').decode('utf-8')))"
   ]
  },
  {
   "cell_type": "code",
   "execution_count": null,
   "metadata": {},
   "outputs": [],
   "source": [
    "result = g.query(\"\"\"\n",
    "PREFIX rdfs: <http://www.w3.org/2000/01/rdf-schema#> \n",
    "PREFIX tai: <https://www.teamingai-project.eu/> \n",
    "PREFIX bbo: <https://www.irit.fr/recherches/MELODI/ontologies/BBO#> \n",
    "PREFIX bbo-ex: <https://www.teamingai-project.eg/BBOExtension#> \n",
    "PREFIX o-steps: <https://fast.ilabt.imec.be/ns/oslo-steps#> \n",
    "PREFIX string: <http://www.w3.org/2000/10/swap/string#> \n",
    "PREFIX xl: <http://www.w3.org/2008/05/skos-xl#> \n",
    "SELECT distinct ?p {\n",
    "  ?activity\n",
    "    rdfs:subClassOf\n",
    "      bbo:Activity.\n",
    "\n",
    "  ?incoming\n",
    "    bbo:has_targetRef\n",
    "      ?activity;\n",
    "    bbo:has_sourceRef\n",
    "      ?requiredState.\n",
    "\n",
    "  ?requiredState\n",
    "    rdfs:subClassOf\n",
    "      bbo:Activity;\n",
    "    ?p ?o.                 \n",
    "}\n",
    "\"\"\")\n",
    "\n",
    "# Output result\n",
    "sparql_result_to_dataframe(result)"
   ]
  },
  {
   "cell_type": "markdown",
   "metadata": {},
   "source": [
    "# Findings:\n",
    "Not all TextAnnotations are linked to something. There seem to be floating \"Ja\" and \"Nee\" annotations"
   ]
  },
  {
   "cell_type": "code",
   "execution_count": null,
   "metadata": {},
   "outputs": [],
   "source": [
    "result = g.query(\"\"\"\n",
    "PREFIX rdfs: <http://www.w3.org/2000/01/rdf-schema#> \n",
    "PREFIX tai: <https://www.teamingai-project.eu/> \n",
    "PREFIX bbo: <https://www.irit.fr/recherches/MELODI/ontologies/BBO#> \n",
    "PREFIX bbo-ex: <https://www.teamingai-project.eg/BBOExtension#> \n",
    "PREFIX o-steps: <https://fast.ilabt.imec.be/ns/oslo-steps#> \n",
    "PREFIX string: <http://www.w3.org/2000/10/swap/string#> \n",
    "PREFIX xl: <http://www.w3.org/2008/05/skos-xl#> \n",
    "SELECT distinct * {\n",
    "   ?annotation\n",
    "      rdfs:subClassOf bbo-ex:TextAnnotation;\n",
    "      rdfs:comment ?comment. \n",
    "\n",
    "   FILTER NOT EXISTS {\n",
    "      ?association\n",
    "         rdfs:subClassOf\n",
    "            bbo-ex:Association;\n",
    "         bbo:has_targetRef\n",
    "            ?annotation.\n",
    "   }              \n",
    "}\n",
    "\"\"\")\n",
    "\n",
    "sparql_result_to_dataframe(result)"
   ]
  },
  {
   "cell_type": "markdown",
   "metadata": {},
   "source": [
    "# Cleanup"
   ]
  },
  {
   "cell_type": "code",
   "execution_count": null,
   "metadata": {},
   "outputs": [],
   "source": [
    "! rm *.ttl *.pkl"
   ]
  }
 ],
 "metadata": {
  "kernelspec": {
   "display_name": ".venv",
   "language": "python",
   "name": "python3"
  },
  "language_info": {
   "codemirror_mode": {
    "name": "ipython",
    "version": 3
   },
   "file_extension": ".py",
   "mimetype": "text/x-python",
   "name": "python",
   "nbconvert_exporter": "python",
   "pygments_lexer": "ipython3",
   "version": "3.10.12"
  }
 },
 "nbformat": 4,
 "nbformat_minor": 2
}
